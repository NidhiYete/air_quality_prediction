{
 "cells": [
  {
   "cell_type": "code",
   "id": "initial_id",
   "metadata": {
    "collapsed": true,
    "ExecuteTime": {
     "end_time": "2024-04-10T22:18:58.622634Z",
     "start_time": "2024-04-10T22:18:57.089849Z"
    }
   },
   "source": [
    "import os.path\n",
    "from pathlib import Path\n",
    "import numpy as np\n",
    "import requests\n",
    "import time\n",
    "import datetime\n",
    "from datetime import datetime, timedelta\n",
    "from dateutil.relativedelta import relativedelta\n",
    "import pandas as pd\n",
    "import seaborn as sns\n",
    "import matplotlib.pyplot as plt\n",
    "import aqi\n",
    "import plotly.express as px\n",
    "import plotly.io as pio\n",
    "import plotly.graph_objects as go\n",
    "pio.templates.default = \"plotly_white\"\n",
    "\n",
    "import warnings\n",
    "warnings.filterwarnings('ignore')"
   ],
   "outputs": [],
   "execution_count": 1
  },
  {
   "cell_type": "markdown",
   "source": [
    "# Data Extraction"
   ],
   "metadata": {
    "collapsed": false
   },
   "id": "b6a4548c3fa6f729"
  },
  {
   "cell_type": "markdown",
   "source": [
    "# New data_2"
   ],
   "metadata": {
    "collapsed": false
   },
   "id": "85d70943cc8328e4"
  },
  {
   "cell_type": "code",
   "source": [
    "# Specify the folder where your CSV files are located\n",
    "folder_path = Path('data_2')\n",
    "\n",
    "# Create an empty list to store DataFrames\n",
    "dfs = []\n",
    "\n",
    "# Iterate over all CSV files in the specified folder\n",
    "for file_path in folder_path.glob(\"*.csv\"):\n",
    "    # Read CSV file\n",
    "    df = pd.read_csv(file_path)\n",
    "    \n",
    "    # Append the DataFrame to the list\n",
    "    dfs.append(df)\n",
    "\n",
    "# Concatenate the DataFrames along the rows\n",
    "combined_df = pd.concat(dfs, ignore_index=True)\n",
    "\n",
    "# Convert the 'date' column to datetime format if it's not already\n",
    "combined_df['date'] = pd.to_datetime(combined_df['date'])\n",
    "\n",
    "# Sort the DataFrame by the 'date' column in ascending order\n",
    "combined_df = combined_df.sort_values(by='date')\n",
    "\n",
    "# Reset the index\n",
    "combined_df.reset_index(drop=True, inplace=True)\n",
    "\n",
    "# Save the combined DataFrame to a new CSV file\n",
    "combined_df.to_csv('air_data.csv', index=False)\n",
    "print('Combined Excel File generated successfully.')"
   ],
   "metadata": {
    "collapsed": false,
    "ExecuteTime": {
     "end_time": "2024-04-12T01:02:12.868285Z",
     "start_time": "2024-04-12T01:02:06.599068Z"
    }
   },
   "id": "10bc4f0b68e87668",
   "outputs": [
    {
     "name": "stdout",
     "output_type": "stream",
     "text": [
      "Combined Excel File generated successfully.\n"
     ]
    }
   ],
   "execution_count": 17
  },
  {
   "metadata": {
    "ExecuteTime": {
     "end_time": "2024-04-12T01:44:08.004609Z",
     "start_time": "2024-04-12T01:44:06.950939Z"
    }
   },
   "cell_type": "code",
   "source": [
    "def read_csv_files(folder_path):\n",
    "    \"\"\"\n",
    "    Read all CSV files from the specified folder and return a list of DataFrames.\n",
    "    \"\"\"\n",
    "    dfs = []\n",
    "    for file_path in Path(folder_path).glob(\"*.csv\"):\n",
    "        df = pd.read_csv(file_path)\n",
    "        dfs.append(df)\n",
    "    return dfs\n",
    "\n",
    "def concatenate_dataframes(dfs):\n",
    "    \"\"\"\n",
    "    Concatenate multiple DataFrames into a single DataFrame.\n",
    "    \"\"\"\n",
    "    return pd.concat(dfs, ignore_index=True)\n",
    "\n",
    "def process_dataframe(df):\n",
    "    \"\"\"\n",
    "    Process the DataFrame: convert the 'date' column to datetime format, \n",
    "    sort by 'date', and reset the index.\n",
    "    \"\"\"\n",
    "    df['date'] = pd.to_datetime(df['date'])\n",
    "    df = df.sort_values(by='date')\n",
    "    df.reset_index(drop=True, inplace=True)\n",
    "    return df\n",
    "\n",
    "def save_to_csv(df, output_file):\n",
    "    \"\"\"\n",
    "    Save the DataFrame to a CSV file.\n",
    "    \"\"\"\n",
    "    df.to_csv(output_file, index=False)\n",
    "    print('Combined Excel File generated successfully.')\n",
    "\n",
    "def main(folder_path, output_file):\n",
    "    \"\"\"\n",
    "    Main function to orchestrate the data processing steps.\n",
    "    \"\"\"\n",
    "    dfs = read_csv_files(folder_path)\n",
    "    combined_df = concatenate_dataframes(dfs)\n",
    "    processed_df = process_dataframe(combined_df)\n",
    "    save_to_csv(processed_df, output_file)\n",
    "\n",
    "if __name__ == \"__main__\":\n",
    "    folder_path = 'data_2'\n",
    "    output_file = 'air_data.csv'\n",
    "    main(folder_path, output_file)"
   ],
   "id": "bad7c15bd6806280",
   "outputs": [
    {
     "name": "stdout",
     "output_type": "stream",
     "text": [
      "Combined Excel File generated successfully.\n"
     ]
    }
   ],
   "execution_count": 19
  },
  {
   "metadata": {},
   "cell_type": "code",
   "outputs": [],
   "execution_count": null,
   "source": "",
   "id": "b8ddf1c53891911e"
  }
 ],
 "metadata": {
  "kernelspec": {
   "display_name": "Python 3",
   "language": "python",
   "name": "python3"
  },
  "language_info": {
   "codemirror_mode": {
    "name": "ipython",
    "version": 2
   },
   "file_extension": ".py",
   "mimetype": "text/x-python",
   "name": "python",
   "nbconvert_exporter": "python",
   "pygments_lexer": "ipython2",
   "version": "2.7.6"
  }
 },
 "nbformat": 4,
 "nbformat_minor": 5
}
