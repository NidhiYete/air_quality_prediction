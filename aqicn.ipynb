{
 "cells": [
  {
   "cell_type": "code",
   "execution_count": 3,
   "id": "initial_id",
   "metadata": {
    "collapsed": true,
    "ExecuteTime": {
     "end_time": "2024-02-15T03:01:41.871862800Z",
     "start_time": "2024-02-15T03:01:36.550298900Z"
    }
   },
   "outputs": [],
   "source": [
    "import requests\n",
    "import pandas as pd\n",
    "import json\n",
    "import csv\n",
    "import os\n",
    "from dotenv import load_dotenv"
   ]
  },
  {
   "cell_type": "code",
   "outputs": [
    {
     "name": "stdout",
     "output_type": "stream",
     "text": [
      "{\"status\":\"ok\",\"data\":{\"aqi\":204,\"idx\":12463,\"attributions\":[{\"url\":\"http://cpcb.nic.in/\",\"name\":\"CPCB - India Central Pollution Control Board\",\"logo\":\"India-CPCB.png\"},{\"url\":\"https://waqi.info/\",\"name\":\"World Air Quality Index Project\"}],\"city\":{\"geo\":[28.557054,77.453663],\"name\":\"Knowledge Park - V, Greater Noida, India\",\"url\":\"https://aqicn.org/city/india/greater-noida/knowledge-park-v\",\"location\":\"\"},\"dominentpol\":\"pm25\",\"iaqi\":{\"co\":{\"v\":28.1},\"dew\":{\"v\":11},\"h\":{\"v\":75},\"no2\":{\"v\":10.6},\"o3\":{\"v\":3.3},\"p\":{\"v\":740},\"pm10\":{\"v\":134},\"pm25\":{\"v\":204},\"so2\":{\"v\":6},\"t\":{\"v\":32.1},\"w\":{\"v\":2.4},\"wg\":{\"v\":8.7}},\"time\":{\"s\":\"2024-02-15 08:00:00\",\"tz\":\"+05:30\",\"v\":1707984000,\"iso\":\"2024-02-15T08:00:00+05:30\"},\"forecast\":{\"daily\":{\"o3\":[{\"avg\":4,\"day\":\"2024-02-13\",\"max\":22,\"min\":1},{\"avg\":4,\"day\":\"2024-02-14\",\"max\":32,\"min\":1},{\"avg\":6,\"day\":\"2024-02-15\",\"max\":39,\"min\":1},{\"avg\":6,\"day\":\"2024-02-16\",\"max\":43,\"min\":1},{\"avg\":6,\"day\":\"2024-02-17\",\"max\":35,\"min\":1},{\"avg\":14,\"day\":\"2024-02-18\",\"max\":37,\"min\":1},{\"avg\":21,\"day\":\"2024-02-19\",\"max\":35,\"min\":13},{\"avg\":17,\"day\":\"2024-02-20\",\"max\":17,\"min\":10}],\"pm10\":[{\"avg\":50,\"day\":\"2024-02-13\",\"max\":52,\"min\":46},{\"avg\":67,\"day\":\"2024-02-14\",\"max\":73,\"min\":54},{\"avg\":63,\"day\":\"2024-02-15\",\"max\":73,\"min\":46},{\"avg\":64,\"day\":\"2024-02-16\",\"max\":73,\"min\":46},{\"avg\":62,\"day\":\"2024-02-17\",\"max\":73,\"min\":46},{\"avg\":60,\"day\":\"2024-02-18\",\"max\":70,\"min\":46},{\"avg\":64,\"day\":\"2024-02-19\",\"max\":113,\"min\":46},{\"avg\":91,\"day\":\"2024-02-20\",\"max\":144,\"min\":57},{\"avg\":341,\"day\":\"2024-02-21\",\"max\":396,\"min\":123}],\"pm25\":[{\"avg\":138,\"day\":\"2024-02-13\",\"max\":138,\"min\":138},{\"avg\":168,\"day\":\"2024-02-14\",\"max\":174,\"min\":151},{\"avg\":161,\"day\":\"2024-02-15\",\"max\":174,\"min\":138},{\"avg\":164,\"day\":\"2024-02-16\",\"max\":174,\"min\":138},{\"avg\":162,\"day\":\"2024-02-17\",\"max\":174,\"min\":138},{\"avg\":159,\"day\":\"2024-02-18\",\"max\":171,\"min\":138},{\"avg\":142,\"day\":\"2024-02-19\",\"max\":159,\"min\":89},{\"avg\":143,\"day\":\"2024-02-20\",\"max\":159,\"min\":89},{\"avg\":234,\"day\":\"2024-02-21\",\"max\":252,\"min\":161}]}},\"debug\":{\"sync\":\"2024-02-15T11:58:59+09:00\"}}}\n"
     ]
    }
   ],
   "source": [
    "#if os.path.exists('hello.csv'):\n",
    "    #os.remove('hello.csv')\n",
    "    #print(f\"Deleted existing CSV file: {'hello.csv'}\")\n",
    "load_dotenv()\n",
    "api_key = os.getenv(\"API_KEY\") \n",
    "#Dhyan Chand\n",
    "#url = \"https://api.waqi.info/feed/@10111/?token=0a1743272712f0dc18821ddd736b4a3922c28122\"\n",
    "# mandir marg\n",
    "#url = \"https://api.waqi.info/feed/@2554/?token=0a1743272712f0dc18821ddd736b4a3922c28122\"\n",
    "# pusa\n",
    "\n",
    "#url = f\"https://api.waqi.info/feed/@10124/?token={api_key}\"\n",
    "\n",
    "# greater noida\n",
    "url = \"https://api.waqi.info/feed/@12463/?token=0a1743272712f0dc18821ddd736b4a3922c28122\"\n",
    "\n",
    "#rkp\n",
    "#url = \"https://api.waqi.info/feed/@2556/?token=0a1743272712f0dc18821ddd736b4a3922c28122\"\n",
    "headers = {\n",
    "    \"accept\": \"application/json\",\n",
    "    \"content-type\": \"application/json\"\n",
    "}\n",
    "\n",
    "response = requests.get(url, headers=headers)\n",
    "\n",
    "print(response.text)\n",
    "\n"
   ],
   "metadata": {
    "collapsed": false,
    "ExecuteTime": {
     "end_time": "2024-02-15T03:08:27.717019500Z",
     "start_time": "2024-02-15T03:08:26.252191Z"
    }
   },
   "id": "1b72800301f3c14e",
   "execution_count": 7
  },
  {
   "cell_type": "code",
   "outputs": [],
   "source": [
    "response_dict = json.loads(response.text)\n",
    "\n",
    "# Extract specific fields from response\n",
    "iaqi_keys = [\"co\", \"so2\", \"pm25\", \"no2\", \"pm10\", \"o3\"]\n",
    "iaqi_data = {key: response_dict['data']['iaqi'][key]['v'] for key in iaqi_keys}\n",
    "city_geo_location = response_dict['data']['city']['geo']\n",
    "time_s_field = response_dict['data']['time']['s']\n",
    "aqi_data = response_dict['data']['aqi']\n",
    "\n"
   ],
   "metadata": {
    "collapsed": false,
    "ExecuteTime": {
     "end_time": "2024-02-13T06:14:15.953376800Z",
     "start_time": "2024-02-13T06:14:15.908765500Z"
    }
   },
   "id": "dbcae9ccba31a605",
   "execution_count": 147
  },
  {
   "cell_type": "code",
   "outputs": [],
   "source": [
    "# Prepare data for CSV\n",
    "csv_data = {\n",
    "    \"time\": time_s_field,\n",
    "    \"co\": iaqi_data[\"co\"],\n",
    "    \"so2\": iaqi_data[\"so2\"],\n",
    "    \"pm25\": iaqi_data[\"pm25\"],\n",
    "    \"no2\": iaqi_data[\"no2\"],\n",
    "    \"pm10\": iaqi_data[\"pm10\"],\n",
    "    \"o3\": iaqi_data[\"o3\"],\n",
    "    \"AQI\": aqi_data,\n",
    "    \"location\": city_geo_location\n",
    "    \n",
    "}"
   ],
   "metadata": {
    "collapsed": false,
    "ExecuteTime": {
     "end_time": "2024-02-13T06:14:21.418916600Z",
     "start_time": "2024-02-13T06:14:21.378274100Z"
    }
   },
   "id": "15cb02964c4c8e4b",
   "execution_count": 148
  },
  {
   "cell_type": "code",
   "outputs": [
    {
     "name": "stdout",
     "output_type": "stream",
     "text": [
      "aqi                                                           350\n",
      "attributions    [{'url': 'http://dpccairdata.com/', 'name': 'D...\n",
      "city            {'geo': [28.5648, 77.1744], 'name': 'R.K. Pura...\n",
      "debug                       {'sync': '2024-02-13T14:35:11+09:00'}\n",
      "dominentpol                                                  pm25\n",
      "forecast        {'daily': {'o3': [{'avg': 5, 'day': '2024-02-1...\n",
      "iaqi            {'co': {'v': 18.1}, 'dew': {'v': 12}, 'h': {'v...\n",
      "idx                                                          2556\n",
      "time            {'s': '2024-02-13 11:00:00', 'tz': '+05:30', '...\n",
      "Name: data, dtype: object\n"
     ]
    }
   ],
   "source": [
    "data = pd.DataFrame(response.json())['data']\n",
    "print(data)"
   ],
   "metadata": {
    "collapsed": false,
    "ExecuteTime": {
     "end_time": "2024-02-13T05:44:19.892983700Z",
     "start_time": "2024-02-13T05:44:19.826699900Z"
    }
   },
   "id": "55b7afb804819b2b",
   "execution_count": 136
  },
  {
   "cell_type": "code",
   "outputs": [
    {
     "name": "stdout",
     "output_type": "stream",
     "text": [
      "{'co': {'v': 18.1}, 'dew': {'v': 12}, 'h': {'v': 64}, 'no2': {'v': 68.4}, 'o3': {'v': 5.1}, 'p': {'v': 999.6}, 'pm10': {'v': 295}, 'pm25': {'v': 350}, 'so2': {'v': 8.4}, 't': {'v': 17.9}, 'w': {'v': 0.5}, 'wd': {'v': 152}, 'wg': {'v': 8.7}}\n"
     ]
    }
   ],
   "source": [
    "iaqi = pd.DataFrame(response.json())['data']['iaqi']\n",
    "print(iaqi) "
   ],
   "metadata": {
    "collapsed": false,
    "ExecuteTime": {
     "end_time": "2024-02-13T05:44:21.254356600Z",
     "start_time": "2024-02-13T05:44:21.211805300Z"
    }
   },
   "id": "3952e91639d6ebe0",
   "execution_count": 137
  },
  {
   "cell_type": "code",
   "outputs": [
    {
     "name": "stdout",
     "output_type": "stream",
     "text": [
      "{'geo': [28.5648, 77.1744], 'name': 'R.K. Puram, Delhi, Delhi, India', 'url': 'https://aqicn.org/city/delhi/r.k.-puram', 'location': ''}\n"
     ]
    }
   ],
   "source": [
    "city = pd.DataFrame(response.json())['data']['city']\n",
    "print(city)"
   ],
   "metadata": {
    "collapsed": false,
    "ExecuteTime": {
     "end_time": "2024-02-13T05:44:21.650764100Z",
     "start_time": "2024-02-13T05:44:21.588661600Z"
    }
   },
   "id": "4a17751be50e9f2f",
   "execution_count": 138
  },
  {
   "cell_type": "code",
   "outputs": [
    {
     "name": "stdout",
     "output_type": "stream",
     "text": [
      "{'s': '2024-02-13 11:00:00', 'tz': '+05:30', 'v': 1707822000, 'iso': '2024-02-13T11:00:00+05:30'}\n"
     ]
    }
   ],
   "source": [
    "time = pd.DataFrame(response.json())['data']['time']\n",
    "print(time)"
   ],
   "metadata": {
    "collapsed": false,
    "ExecuteTime": {
     "end_time": "2024-02-13T05:44:22.381829800Z",
     "start_time": "2024-02-13T05:44:22.297723600Z"
    }
   },
   "id": "8e70f6eab47af3e6",
   "execution_count": 139
  },
  {
   "cell_type": "code",
   "outputs": [
    {
     "name": "stdout",
     "output_type": "stream",
     "text": [
      "Data has been appended to hello.csv\n"
     ]
    }
   ],
   "source": [
    "# Append data to CSV file\n",
    "csv_file_path = \"hello.csv\"\n",
    "with open(csv_file_path, mode='a', newline='') as csv_file:\n",
    "    fieldnames = csv_data.keys()\n",
    "    csv_writer = csv.DictWriter(csv_file, fieldnames=fieldnames)\n",
    "\n",
    "    # Check if the CSV file is empty, if so, write header\n",
    "    if csv_file.tell() == 0:\n",
    "        csv_writer.writeheader()\n",
    "\n",
    "    csv_writer.writerow(csv_data)\n",
    "\n",
    "print(f\"Data has been appended to {csv_file_path}\")"
   ],
   "metadata": {
    "collapsed": false,
    "ExecuteTime": {
     "end_time": "2024-02-13T06:14:41.822875800Z",
     "start_time": "2024-02-13T06:14:41.780959700Z"
    }
   },
   "id": "6c06d9f919585ca1",
   "execution_count": 149
  },
  {
   "cell_type": "code",
   "outputs": [],
   "source": [
    "file = pd.read_csv('hello.csv')"
   ],
   "metadata": {
    "collapsed": false,
    "ExecuteTime": {
     "end_time": "2024-02-13T06:14:43.182013500Z",
     "start_time": "2024-02-13T06:14:43.135868500Z"
    }
   },
   "id": "afb09cd81f8b4c1a",
   "execution_count": 150
  },
  {
   "cell_type": "code",
   "outputs": [
    {
     "data": {
      "text/plain": "                  time    co  so2  pm25   no2  pm10   o3  AQI  \\\n0  2024-02-13 11:00:00  12.3  1.5   298  26.5   230  1.7  298   \n1  2024-02-13 11:00:00  15.0  2.8   349  36.4   304  0.7  349   \n2  2024-02-13 10:00:00  22.0  2.0   280  11.6   264  4.1  280   \n3  2024-02-13 09:00:00  32.2  6.2   294  13.4   501  2.7  501   \n4  2024-02-13 11:00:00  18.1  8.4   350  68.4   295  5.1  350   \n5  2024-02-13 11:00:00  16.3  2.4   319  17.2   401  4.8  401   \n\n                 location  \n0      [28.6341, 77.2005]  \n1  [28.612498, 77.237388]  \n2  [28.636997, 77.172248]  \n3  [28.557054, 77.453663]  \n4      [28.5648, 77.1744]  \n5  [28.636997, 77.172248]  ",
      "text/html": "<div>\n<style scoped>\n    .dataframe tbody tr th:only-of-type {\n        vertical-align: middle;\n    }\n\n    .dataframe tbody tr th {\n        vertical-align: top;\n    }\n\n    .dataframe thead th {\n        text-align: right;\n    }\n</style>\n<table border=\"1\" class=\"dataframe\">\n  <thead>\n    <tr style=\"text-align: right;\">\n      <th></th>\n      <th>time</th>\n      <th>co</th>\n      <th>so2</th>\n      <th>pm25</th>\n      <th>no2</th>\n      <th>pm10</th>\n      <th>o3</th>\n      <th>AQI</th>\n      <th>location</th>\n    </tr>\n  </thead>\n  <tbody>\n    <tr>\n      <th>0</th>\n      <td>2024-02-13 11:00:00</td>\n      <td>12.3</td>\n      <td>1.5</td>\n      <td>298</td>\n      <td>26.5</td>\n      <td>230</td>\n      <td>1.7</td>\n      <td>298</td>\n      <td>[28.6341, 77.2005]</td>\n    </tr>\n    <tr>\n      <th>1</th>\n      <td>2024-02-13 11:00:00</td>\n      <td>15.0</td>\n      <td>2.8</td>\n      <td>349</td>\n      <td>36.4</td>\n      <td>304</td>\n      <td>0.7</td>\n      <td>349</td>\n      <td>[28.612498, 77.237388]</td>\n    </tr>\n    <tr>\n      <th>2</th>\n      <td>2024-02-13 10:00:00</td>\n      <td>22.0</td>\n      <td>2.0</td>\n      <td>280</td>\n      <td>11.6</td>\n      <td>264</td>\n      <td>4.1</td>\n      <td>280</td>\n      <td>[28.636997, 77.172248]</td>\n    </tr>\n    <tr>\n      <th>3</th>\n      <td>2024-02-13 09:00:00</td>\n      <td>32.2</td>\n      <td>6.2</td>\n      <td>294</td>\n      <td>13.4</td>\n      <td>501</td>\n      <td>2.7</td>\n      <td>501</td>\n      <td>[28.557054, 77.453663]</td>\n    </tr>\n    <tr>\n      <th>4</th>\n      <td>2024-02-13 11:00:00</td>\n      <td>18.1</td>\n      <td>8.4</td>\n      <td>350</td>\n      <td>68.4</td>\n      <td>295</td>\n      <td>5.1</td>\n      <td>350</td>\n      <td>[28.5648, 77.1744]</td>\n    </tr>\n    <tr>\n      <th>5</th>\n      <td>2024-02-13 11:00:00</td>\n      <td>16.3</td>\n      <td>2.4</td>\n      <td>319</td>\n      <td>17.2</td>\n      <td>401</td>\n      <td>4.8</td>\n      <td>401</td>\n      <td>[28.636997, 77.172248]</td>\n    </tr>\n  </tbody>\n</table>\n</div>"
     },
     "execution_count": 151,
     "metadata": {},
     "output_type": "execute_result"
    }
   ],
   "source": [
    "file\n"
   ],
   "metadata": {
    "collapsed": false,
    "ExecuteTime": {
     "end_time": "2024-02-13T06:14:43.887445Z",
     "start_time": "2024-02-13T06:14:43.796182900Z"
    }
   },
   "id": "453328d8c7dbeeff",
   "execution_count": 151
  },
  {
   "cell_type": "code",
   "outputs": [
    {
     "ename": "TypeError",
     "evalue": "calculate_overall_aqi() got an unexpected keyword argument 'axis'",
     "output_type": "error",
     "traceback": [
      "\u001B[1;31m---------------------------------------------------------------------------\u001B[0m",
      "\u001B[1;31mTypeError\u001B[0m                                 Traceback (most recent call last)",
      "Cell \u001B[1;32mIn[161], line 28\u001B[0m\n\u001B[0;32m     25\u001B[0m     \u001B[38;5;28;01mreturn\u001B[39;00m np\u001B[38;5;241m.\u001B[39mnanmax(aqi_values)  \u001B[38;5;66;03m# Use np.nanmax to handle NaN values\u001B[39;00m\n\u001B[0;32m     27\u001B[0m \u001B[38;5;66;03m# Calculate AQI for each row\u001B[39;00m\n\u001B[1;32m---> 28\u001B[0m data[\u001B[38;5;124m'\u001B[39m\u001B[38;5;124mAQI\u001B[39m\u001B[38;5;124m'\u001B[39m] \u001B[38;5;241m=\u001B[39m \u001B[43mdata\u001B[49m\u001B[38;5;241;43m.\u001B[39;49m\u001B[43mapply\u001B[49m\u001B[43m(\u001B[49m\u001B[43mcalculate_overall_aqi\u001B[49m\u001B[43m,\u001B[49m\u001B[43m \u001B[49m\u001B[43maxis\u001B[49m\u001B[38;5;241;43m=\u001B[39;49m\u001B[38;5;241;43m1\u001B[39;49m\u001B[43m)\u001B[49m\n\u001B[0;32m     30\u001B[0m \u001B[38;5;66;03m# Define AQI categories\u001B[39;00m\n\u001B[0;32m     31\u001B[0m aqi_categories \u001B[38;5;241m=\u001B[39m [\n\u001B[0;32m     32\u001B[0m     (\u001B[38;5;241m0\u001B[39m, \u001B[38;5;241m50\u001B[39m, \u001B[38;5;124m'\u001B[39m\u001B[38;5;124mGood\u001B[39m\u001B[38;5;124m'\u001B[39m), (\u001B[38;5;241m51\u001B[39m, \u001B[38;5;241m100\u001B[39m, \u001B[38;5;124m'\u001B[39m\u001B[38;5;124mModerate\u001B[39m\u001B[38;5;124m'\u001B[39m), (\u001B[38;5;241m101\u001B[39m, \u001B[38;5;241m150\u001B[39m, \u001B[38;5;124m'\u001B[39m\u001B[38;5;124mUnhealthy for Sensitive Groups\u001B[39m\u001B[38;5;124m'\u001B[39m),\n\u001B[0;32m     33\u001B[0m     (\u001B[38;5;241m151\u001B[39m, \u001B[38;5;241m200\u001B[39m, \u001B[38;5;124m'\u001B[39m\u001B[38;5;124mUnhealthy\u001B[39m\u001B[38;5;124m'\u001B[39m), (\u001B[38;5;241m201\u001B[39m, \u001B[38;5;241m300\u001B[39m, \u001B[38;5;124m'\u001B[39m\u001B[38;5;124mVery Unhealthy\u001B[39m\u001B[38;5;124m'\u001B[39m), (\u001B[38;5;241m301\u001B[39m, \u001B[38;5;241m500\u001B[39m, \u001B[38;5;124m'\u001B[39m\u001B[38;5;124mHazardous\u001B[39m\u001B[38;5;124m'\u001B[39m)\n\u001B[0;32m     34\u001B[0m ]\n",
      "File \u001B[1;32mC:\\Nidhi\\Conditional_statement\\venv\\Lib\\site-packages\\pandas\\core\\series.py:4771\u001B[0m, in \u001B[0;36mSeries.apply\u001B[1;34m(self, func, convert_dtype, args, **kwargs)\u001B[0m\n\u001B[0;32m   4661\u001B[0m \u001B[38;5;28;01mdef\u001B[39;00m \u001B[38;5;21mapply\u001B[39m(\n\u001B[0;32m   4662\u001B[0m     \u001B[38;5;28mself\u001B[39m,\n\u001B[0;32m   4663\u001B[0m     func: AggFuncType,\n\u001B[1;32m   (...)\u001B[0m\n\u001B[0;32m   4666\u001B[0m     \u001B[38;5;241m*\u001B[39m\u001B[38;5;241m*\u001B[39mkwargs,\n\u001B[0;32m   4667\u001B[0m ) \u001B[38;5;241m-\u001B[39m\u001B[38;5;241m>\u001B[39m DataFrame \u001B[38;5;241m|\u001B[39m Series:\n\u001B[0;32m   4668\u001B[0m \u001B[38;5;250m    \u001B[39m\u001B[38;5;124;03m\"\"\"\u001B[39;00m\n\u001B[0;32m   4669\u001B[0m \u001B[38;5;124;03m    Invoke function on values of Series.\u001B[39;00m\n\u001B[0;32m   4670\u001B[0m \n\u001B[1;32m   (...)\u001B[0m\n\u001B[0;32m   4769\u001B[0m \u001B[38;5;124;03m    dtype: float64\u001B[39;00m\n\u001B[0;32m   4770\u001B[0m \u001B[38;5;124;03m    \"\"\"\u001B[39;00m\n\u001B[1;32m-> 4771\u001B[0m     \u001B[38;5;28;01mreturn\u001B[39;00m \u001B[43mSeriesApply\u001B[49m\u001B[43m(\u001B[49m\u001B[38;5;28;43mself\u001B[39;49m\u001B[43m,\u001B[49m\u001B[43m \u001B[49m\u001B[43mfunc\u001B[49m\u001B[43m,\u001B[49m\u001B[43m \u001B[49m\u001B[43mconvert_dtype\u001B[49m\u001B[43m,\u001B[49m\u001B[43m \u001B[49m\u001B[43margs\u001B[49m\u001B[43m,\u001B[49m\u001B[43m \u001B[49m\u001B[43mkwargs\u001B[49m\u001B[43m)\u001B[49m\u001B[38;5;241;43m.\u001B[39;49m\u001B[43mapply\u001B[49m\u001B[43m(\u001B[49m\u001B[43m)\u001B[49m\n",
      "File \u001B[1;32mC:\\Nidhi\\Conditional_statement\\venv\\Lib\\site-packages\\pandas\\core\\apply.py:1123\u001B[0m, in \u001B[0;36mSeriesApply.apply\u001B[1;34m(self)\u001B[0m\n\u001B[0;32m   1120\u001B[0m     \u001B[38;5;28;01mreturn\u001B[39;00m \u001B[38;5;28mself\u001B[39m\u001B[38;5;241m.\u001B[39mapply_str()\n\u001B[0;32m   1122\u001B[0m \u001B[38;5;66;03m# self.f is Callable\u001B[39;00m\n\u001B[1;32m-> 1123\u001B[0m \u001B[38;5;28;01mreturn\u001B[39;00m \u001B[38;5;28;43mself\u001B[39;49m\u001B[38;5;241;43m.\u001B[39;49m\u001B[43mapply_standard\u001B[49m\u001B[43m(\u001B[49m\u001B[43m)\u001B[49m\n",
      "File \u001B[1;32mC:\\Nidhi\\Conditional_statement\\venv\\Lib\\site-packages\\pandas\\core\\apply.py:1174\u001B[0m, in \u001B[0;36mSeriesApply.apply_standard\u001B[1;34m(self)\u001B[0m\n\u001B[0;32m   1172\u001B[0m     \u001B[38;5;28;01melse\u001B[39;00m:\n\u001B[0;32m   1173\u001B[0m         values \u001B[38;5;241m=\u001B[39m obj\u001B[38;5;241m.\u001B[39mastype(\u001B[38;5;28mobject\u001B[39m)\u001B[38;5;241m.\u001B[39m_values\n\u001B[1;32m-> 1174\u001B[0m         mapped \u001B[38;5;241m=\u001B[39m \u001B[43mlib\u001B[49m\u001B[38;5;241;43m.\u001B[39;49m\u001B[43mmap_infer\u001B[49m\u001B[43m(\u001B[49m\n\u001B[0;32m   1175\u001B[0m \u001B[43m            \u001B[49m\u001B[43mvalues\u001B[49m\u001B[43m,\u001B[49m\n\u001B[0;32m   1176\u001B[0m \u001B[43m            \u001B[49m\u001B[43mf\u001B[49m\u001B[43m,\u001B[49m\n\u001B[0;32m   1177\u001B[0m \u001B[43m            \u001B[49m\u001B[43mconvert\u001B[49m\u001B[38;5;241;43m=\u001B[39;49m\u001B[38;5;28;43mself\u001B[39;49m\u001B[38;5;241;43m.\u001B[39;49m\u001B[43mconvert_dtype\u001B[49m\u001B[43m,\u001B[49m\n\u001B[0;32m   1178\u001B[0m \u001B[43m        \u001B[49m\u001B[43m)\u001B[49m\n\u001B[0;32m   1180\u001B[0m \u001B[38;5;28;01mif\u001B[39;00m \u001B[38;5;28mlen\u001B[39m(mapped) \u001B[38;5;129;01mand\u001B[39;00m \u001B[38;5;28misinstance\u001B[39m(mapped[\u001B[38;5;241m0\u001B[39m], ABCSeries):\n\u001B[0;32m   1181\u001B[0m     \u001B[38;5;66;03m# GH#43986 Need to do list(mapped) in order to get treated as nested\u001B[39;00m\n\u001B[0;32m   1182\u001B[0m     \u001B[38;5;66;03m#  See also GH#25959 regarding EA support\u001B[39;00m\n\u001B[0;32m   1183\u001B[0m     \u001B[38;5;28;01mreturn\u001B[39;00m obj\u001B[38;5;241m.\u001B[39m_constructor_expanddim(\u001B[38;5;28mlist\u001B[39m(mapped), index\u001B[38;5;241m=\u001B[39mobj\u001B[38;5;241m.\u001B[39mindex)\n",
      "File \u001B[1;32mC:\\Nidhi\\Conditional_statement\\venv\\Lib\\site-packages\\pandas\\_libs\\lib.pyx:2924\u001B[0m, in \u001B[0;36mpandas._libs.lib.map_infer\u001B[1;34m()\u001B[0m\n",
      "File \u001B[1;32mC:\\Nidhi\\Conditional_statement\\venv\\Lib\\site-packages\\pandas\\core\\apply.py:142\u001B[0m, in \u001B[0;36mApply.__init__.<locals>.f\u001B[1;34m(x)\u001B[0m\n\u001B[0;32m    141\u001B[0m \u001B[38;5;28;01mdef\u001B[39;00m \u001B[38;5;21mf\u001B[39m(x):\n\u001B[1;32m--> 142\u001B[0m     \u001B[38;5;28;01mreturn\u001B[39;00m \u001B[43mfunc\u001B[49m\u001B[43m(\u001B[49m\u001B[43mx\u001B[49m\u001B[43m,\u001B[49m\u001B[43m \u001B[49m\u001B[38;5;241;43m*\u001B[39;49m\u001B[43margs\u001B[49m\u001B[43m,\u001B[49m\u001B[43m \u001B[49m\u001B[38;5;241;43m*\u001B[39;49m\u001B[38;5;241;43m*\u001B[39;49m\u001B[43mkwargs\u001B[49m\u001B[43m)\u001B[49m\n",
      "\u001B[1;31mTypeError\u001B[0m: calculate_overall_aqi() got an unexpected keyword argument 'axis'"
     ]
    }
   ],
   "source": [
    "import numpy as np\n",
    "\n",
    "# Define AQI breakpoints and corresponding AQI values\n",
    "aqi_breakpoints = [\n",
    "    (0, 12.0, 50), (12.1, 35.4, 100), (35.5, 55.4, 150),\n",
    "    (55.5, 150.4, 200), (150.5, 250.4, 300), (250.5, 350.4, 400),\n",
    "    (350.5, 500.4, 500)\n",
    "]\n",
    "\n",
    "def calculate_aqi(pollutant_name, concentration):\n",
    "    if not pd.isna(concentration):  # Check for missing values\n",
    "        for low, high, aqi in aqi_breakpoints:\n",
    "            if low <= concentration <= high:\n",
    "                ip = ((aqi - 0) / (high - low)) * (concentration - low) + 0\n",
    "                return ip\n",
    "    return None\n",
    "\n",
    "def calculate_overall_aqi(row):\n",
    "    aqi_values = []\n",
    "    pollutants = ['co', 'no2', 'o3', 'so2', 'pm25', 'pm10']  # Update column names\n",
    "    for pollutant in pollutants:\n",
    "        aqi = calculate_aqi(pollutant, row[pollutant])\n",
    "        if aqi is not None:\n",
    "            aqi_values.append(aqi)\n",
    "    return np.nanmax(aqi_values)  # Use np.nanmax to handle NaN values\n",
    "\n",
    "# Calculate AQI for each row\n",
    "data['AQI'] = data.apply(calculate_overall_aqi, axis=1)\n",
    "\n",
    "# Define AQI categories\n",
    "aqi_categories = [\n",
    "    (0, 50, 'Good'), (51, 100, 'Moderate'), (101, 150, 'Unhealthy for Sensitive Groups'),\n",
    "    (151, 200, 'Unhealthy'), (201, 300, 'Very Unhealthy'), (301, 500, 'Hazardous')\n",
    "]\n",
    "\n",
    "def categorize_aqi(aqi_value):\n",
    "    if not pd.isna(aqi_value):  # Check for missing values\n",
    "        for low, high, category in aqi_categories:\n",
    "            if low <= aqi_value <= high:\n",
    "                return category\n",
    "    return None\n",
    "\n",
    "# Categorize AQI\n",
    "data['AQI Category'] = data['AQI'].apply(categorize_aqi)\n",
    "print(data.head())\n",
    "# Example usage\n",
    "ozone_value = 4.8\n",
    "pm25_value = 319\n",
    "pm10_value = 401\n",
    "co_value = 16.3\n",
    "so2_value = 2.4\n",
    "no2_value = 17.2\n",
    "\n",
    "result_aqi_indian = calculate_aqi(pm25_value, pm10_value, co_value, ozone_value, so2_value, no2_value)\n",
    "print(f'Calculated AQI (Indian Standard): {result_aqi_indian}')"
   ],
   "metadata": {
    "collapsed": false,
    "ExecuteTime": {
     "end_time": "2024-02-13T19:34:23.039726500Z",
     "start_time": "2024-02-13T19:34:21.733507900Z"
    }
   },
   "id": "a762aa766b0921c4",
   "execution_count": 161
  },
  {
   "cell_type": "code",
   "outputs": [
    {
     "ename": "OSError",
     "evalue": "Could not find kaggle.json. Make sure it's located in C:\\Users\\ashis\\.kaggle. Or use the environment method.",
     "output_type": "error",
     "traceback": [
      "\u001B[1;31m---------------------------------------------------------------------------\u001B[0m",
      "\u001B[1;31mOSError\u001B[0m                                   Traceback (most recent call last)",
      "Cell \u001B[1;32mIn[8], line 1\u001B[0m\n\u001B[1;32m----> 1\u001B[0m \u001B[38;5;28;01mimport\u001B[39;00m \u001B[38;5;21;01mkaggle\u001B[39;00m\n\u001B[0;32m      3\u001B[0m get_ipython()\u001B[38;5;241m.\u001B[39msystem(\u001B[38;5;124m'\u001B[39m\u001B[38;5;124mkaggle datasets download -d akshatgupta7/crop-yield-in-indian-states-dataset\u001B[39m\u001B[38;5;124m'\u001B[39m)\n",
      "File \u001B[1;32mC:\\Nidhi\\Conditional_statement\\venv\\Lib\\site-packages\\kaggle\\__init__.py:23\u001B[0m\n\u001B[0;32m     20\u001B[0m \u001B[38;5;28;01mfrom\u001B[39;00m \u001B[38;5;21;01mkaggle\u001B[39;00m\u001B[38;5;21;01m.\u001B[39;00m\u001B[38;5;21;01mapi_client\u001B[39;00m \u001B[38;5;28;01mimport\u001B[39;00m ApiClient\n\u001B[0;32m     22\u001B[0m api \u001B[38;5;241m=\u001B[39m KaggleApi(ApiClient())\n\u001B[1;32m---> 23\u001B[0m \u001B[43mapi\u001B[49m\u001B[38;5;241;43m.\u001B[39;49m\u001B[43mauthenticate\u001B[49m\u001B[43m(\u001B[49m\u001B[43m)\u001B[49m\n",
      "File \u001B[1;32mC:\\Nidhi\\Conditional_statement\\venv\\Lib\\site-packages\\kaggle\\api\\kaggle_api_extended.py:403\u001B[0m, in \u001B[0;36mKaggleApi.authenticate\u001B[1;34m(self)\u001B[0m\n\u001B[0;32m    401\u001B[0m         config_data \u001B[38;5;241m=\u001B[39m \u001B[38;5;28mself\u001B[39m\u001B[38;5;241m.\u001B[39mread_config_file(config_data)\n\u001B[0;32m    402\u001B[0m     \u001B[38;5;28;01melse\u001B[39;00m:\n\u001B[1;32m--> 403\u001B[0m         \u001B[38;5;28;01mraise\u001B[39;00m \u001B[38;5;167;01mIOError\u001B[39;00m(\u001B[38;5;124m'\u001B[39m\u001B[38;5;124mCould not find \u001B[39m\u001B[38;5;132;01m{}\u001B[39;00m\u001B[38;5;124m. Make sure it\u001B[39m\u001B[38;5;130;01m\\'\u001B[39;00m\u001B[38;5;124ms located in\u001B[39m\u001B[38;5;124m'\u001B[39m\n\u001B[0;32m    404\u001B[0m                       \u001B[38;5;124m'\u001B[39m\u001B[38;5;124m \u001B[39m\u001B[38;5;132;01m{}\u001B[39;00m\u001B[38;5;124m. Or use the environment method.\u001B[39m\u001B[38;5;124m'\u001B[39m\u001B[38;5;241m.\u001B[39mformat(\n\u001B[0;32m    405\u001B[0m                           \u001B[38;5;28mself\u001B[39m\u001B[38;5;241m.\u001B[39mconfig_file, \u001B[38;5;28mself\u001B[39m\u001B[38;5;241m.\u001B[39mconfig_dir))\n\u001B[0;32m    407\u001B[0m \u001B[38;5;66;03m# Step 3: load into configuration!\u001B[39;00m\n\u001B[0;32m    408\u001B[0m \u001B[38;5;28mself\u001B[39m\u001B[38;5;241m.\u001B[39m_load_config(config_data)\n",
      "\u001B[1;31mOSError\u001B[0m: Could not find kaggle.json. Make sure it's located in C:\\Users\\ashis\\.kaggle. Or use the environment method."
     ]
    }
   ],
   "source": [
    "import kaggle\n",
    "\n",
    "!kaggle datasets download -d akshatgupta7/crop-yield-in-indian-states-dataset"
   ],
   "metadata": {
    "collapsed": false,
    "ExecuteTime": {
     "end_time": "2024-02-15T03:08:59.567922200Z",
     "start_time": "2024-02-15T03:08:52.399246300Z"
    }
   },
   "id": "9e1c822e9755df17",
   "execution_count": 8
  },
  {
   "cell_type": "code",
   "outputs": [],
   "source": [],
   "metadata": {
    "collapsed": false
   },
   "id": "2512a853409b217f"
  }
 ],
 "metadata": {
  "kernelspec": {
   "display_name": "Python 3",
   "language": "python",
   "name": "python3"
  },
  "language_info": {
   "codemirror_mode": {
    "name": "ipython",
    "version": 2
   },
   "file_extension": ".py",
   "mimetype": "text/x-python",
   "name": "python",
   "nbconvert_exporter": "python",
   "pygments_lexer": "ipython2",
   "version": "2.7.6"
  }
 },
 "nbformat": 4,
 "nbformat_minor": 5
}
